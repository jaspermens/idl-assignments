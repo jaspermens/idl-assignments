{
 "cells": [
  {
   "cell_type": "code",
   "execution_count": 8,
   "id": "961abb46-f8bf-4a1b-b78e-5d2b62b64510",
   "metadata": {},
   "outputs": [],
   "source": [
    "import random\n",
    "import math\n",
    "import numpy as np"
   ]
  },
  {
   "cell_type": "code",
   "execution_count": 17,
   "id": "128ca76d-fd28-40de-a3d4-0ed865ccb81b",
   "metadata": {},
   "outputs": [],
   "source": [
    "def initweights():                      # Random weights initialization\n",
    "    if inityp == 'uniform':\n",
    "        return [random.uniform(-1,1) for i in range(9)]\n",
    "    if inityp == 'normal':\n",
    "        return [np.random.normal(0,0.2) for i in range(9)]\n"
   ]
  },
  {
   "cell_type": "code",
   "execution_count": 10,
   "id": "ac942de5-cb2b-4d6e-9da3-4bebc05be774",
   "metadata": {},
   "outputs": [],
   "source": [
    "def actfun(val):                        # Activation functions\n",
    "    if actyp == \"sigmoid\":\n",
    "        return (1/(1+math.exp(-val)))\n",
    "    if actyp == \"tanh\":\n",
    "        return math.tanh(val)\n",
    "    if actyp == \"relu\":\n",
    "        return max(0,val)"
   ]
  },
  {
   "cell_type": "code",
   "execution_count": 26,
   "id": "30c23825-934e-4ff4-bb74-d9a6dcc85d29",
   "metadata": {},
   "outputs": [],
   "source": [
    "def deractfun(val):\n",
    "    if actyp == \"sigmoid\":\n",
    "        return val*(1-val)\n",
    "    if actyp == \"tanh\":\n",
    "        return 1-val**2\n",
    "    if actyp == \"relu\":\n",
    "        if val >= 0:\n",
    "            return 1\n",
    "        else:\n",
    "            return 0"
   ]
  },
  {
   "cell_type": "code",
   "execution_count": 27,
   "id": "49fe4ba2-3f4b-4314-8bee-4842c84d012d",
   "metadata": {},
   "outputs": [],
   "source": [
    "def activations(weights, input):        # Calculates activations of hidden and output nodes\n",
    "    net0 = input[0]*weights[0] + input[1]*weights[1] + weights[2]\n",
    "    y0 = actfun(net0)\n",
    "    net1 = input[0]*weights[3] + input[1]*weights[4] + weights[5]\n",
    "    y1 = actfun(net1)\n",
    "    net = y0*weights[6] + y1*weights[7] + weights[8]\n",
    "    y = actfun(net)\n",
    "    return(y0, y1, y)\n"
   ]
  },
  {
   "cell_type": "code",
   "execution_count": 28,
   "id": "18d700fa-4269-4f81-8030-be341c79ba14",
   "metadata": {},
   "outputs": [],
   "source": [
    "def xor_net(weights, input):            # Returns value of output node\n",
    "    act = activations(weights, input)\n",
    "    return act[2]\n"
   ]
  },
  {
   "cell_type": "code",
   "execution_count": 29,
   "id": "cfa5aeb6-f11a-43de-8460-4912f291d14a",
   "metadata": {},
   "outputs": [],
   "source": [
    "def mse(weights, inputs, targets):      # Calculates MSE + number of misclassified inputs\n",
    "    tot, misit = 0, 0\n",
    "    for index, input in enumerate(inputs):\n",
    "        tot += (1/2)*(xor_net(weights, input)-targets[index])**2\n",
    "        if (targets[index] == 0) and (xor_net(weights,input) > 0.5):    # Outcome > 0.5 is considered 1\n",
    "            misit += 1\n",
    "        if (targets[index] == 1) and (xor_net(weights,input) <= 0.5):   # Outcome <= 0.5 is considered 0\n",
    "            misit += 1\n",
    "    return tot, misit\n"
   ]
  },
  {
   "cell_type": "code",
   "execution_count": 30,
   "id": "65eef96c-ab53-49ea-8473-4aed6a29e2c1",
   "metadata": {},
   "outputs": [],
   "source": [
    "def grdmse(weights, input, target):    # Output length == input vector weights\n",
    "    act = activations(weights, input)\n",
    "    # pw = (act[2]-target)*act[2]*(1-act[2])\n",
    "    pw = (act[2]-target)*deractfun(act[2]) \n",
    "    # pu = (act[2]-target)*act[2]*(1-act[2])*act[0]*(1-act[0])*weights[6]\n",
    "    pu = (act[2]-target)*deractfun(act[2])*deractfun(act[0])*weights[6]\n",
    "    # pv = (act[2]-target)*act[2]*(1-act[2])*act[1]*(1-act[1])*weights[7]\n",
    "    pv = (act[2]-target)*deractfun(act[2])*deractfun(act[1])*weights[7]\n",
    "    return [pu*input[0], pu*input[1], pu, pv*input[0], pv*input[1], pv, pw*act[0], pw*act[1], pw]\n"
   ]
  },
  {
   "cell_type": "code",
   "execution_count": 31,
   "id": "a34d9288-2fb9-444f-bb6f-6f83f2de566e",
   "metadata": {},
   "outputs": [],
   "source": [
    "def gradec(weights, inputs, targets):                       # Gradient descent \n",
    "    it = 0\n",
    "    curmse, misit = mse(weights, inputs, targets)           # Calculate MSE and #misclassified items\n",
    "    while (curmse > traincut) and (it < trainit):           \n",
    "        it += 1\n",
    "        for index, input in enumerate(inputs):\n",
    "            tgrad = grdmse(weights, input, targets[index])  # Gradient of MSE\n",
    "            for index1 in range(len(weights)):\n",
    "                weights[index1] -= eta * tgrad[index1]      # Update rule\n",
    "        curmse, misit = mse(weights, inputs, targets)\n",
    "    print(\"Training complete\")\n",
    "    print(\"Iterations: \", it, \" MSE: \", curmse, \" Misclassified: \", misit)\n",
    "    print(\"Weights after training: \", weights)\n",
    "    return\n"
   ]
  },
  {
   "cell_type": "code",
   "execution_count": 39,
   "id": "52e42506-621a-4eaa-a3ec-9257a26ce8bc",
   "metadata": {},
   "outputs": [
    {
     "name": "stdout",
     "output_type": "stream",
     "text": [
      "Weights before training:  [-0.22510155370253404, -0.11123214849902419, -0.6688922379799547, -0.23251849748921294, 0.3042986533957288, -0.7061189984537002, 0.6948663804073789, 0.060470298035075976, -0.1369922061460711]\n",
      "Training complete\n",
      "Iterations:  1000  MSE:  0.9999999999999114  Misclassified:  2\n",
      "Weights after training:  [-0.9427453474492642, -0.09910512292475612, 2.106570679267017, -4.359695696134402, 0.8217487447328213, -3.22650282542535, 4.194248006813809, 3.3155688938158274, 15.482562558913907]\n"
     ]
    }
   ],
   "source": [
    "eta = 20                                    # Learning rate\n",
    "actyp = \"tanh\"                           # Activation function type: sigmoid, tanh or relu\n",
    "inityp = \"uniform\"                          # Initialization strategy: normal or uniform\n",
    "typ = \"training\"                            # Lazy random trial & error or training\n",
    "inputs = [[0,0], [1,0], [0,1], [1,1]]       # Training inputs\n",
    "targets = [0,1,1,0]                         # Training outputs\n",
    "trainit = 1000                              # Maximum number of training iterations\n",
    "traincut = 0.1                              # Upper bound for target MSE\n",
    "\n",
    "if typ == \"lazy\":\n",
    "    for i in range(trainit):\n",
    "        weights = initweights()                         # Weight initialization\n",
    "        curmse, misit = mse(weights, inputs, targets)   # Calculate MSE and #misclassified items\n",
    "        print(\"Iteration \", i,\": MSE = \", curmse, \" Misclassified inputs: \", misit)\n",
    "        if curmse < traincut:\n",
    "            break\n",
    "else:\n",
    "    weights = initweights()                         # Weight initialization\n",
    "    print(\"Weights before training: \", weights)\n",
    "    gradec(weights, inputs, targets)\n"
   ]
  },
  {
   "cell_type": "code",
   "execution_count": 40,
   "id": "f4be206e-aede-455b-bac1-4b41b23c2a1c",
   "metadata": {},
   "outputs": [],
   "source": [
    "# (S) Class"
   ]
  },
  {
   "cell_type": "code",
   "execution_count": null,
   "id": "08cc7fb0-e0a8-43d6-a1c4-2dc193973157",
   "metadata": {},
   "outputs": [],
   "source": []
  }
 ],
 "metadata": {
  "kernelspec": {
   "display_name": "Python 3 (ipykernel)",
   "language": "python",
   "name": "python3"
  },
  "language_info": {
   "codemirror_mode": {
    "name": "ipython",
    "version": 3
   },
   "file_extension": ".py",
   "mimetype": "text/x-python",
   "name": "python",
   "nbconvert_exporter": "python",
   "pygments_lexer": "ipython3",
   "version": "3.10.12"
  }
 },
 "nbformat": 4,
 "nbformat_minor": 5
}
