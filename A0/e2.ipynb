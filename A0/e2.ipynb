{
 "cells": [
  {
   "cell_type": "code",
   "execution_count": 126,
   "metadata": {},
   "outputs": [],
   "source": [
    "import numpy as np\n",
    "import matplotlib.pyplot as plt\n",
    "import time"
   ]
  },
  {
   "cell_type": "code",
   "execution_count": 127,
   "metadata": {},
   "outputs": [],
   "source": [
    "traindata = np.loadtxt('train_in.csv', delimiter=',')\n",
    "trainlabels = np.genfromtxt('train_out.csv', delimiter=',', dtype=int)\n",
    "\n",
    "testdata = np.genfromtxt('test_in.csv', delimiter=',')\n",
    "testlabels = np.genfromtxt('test_out.csv', delimiter=',', dtype=int)"
   ]
  },
  {
   "cell_type": "code",
   "execution_count": 130,
   "metadata": {},
   "outputs": [],
   "source": [
    "class DigitPerceptron:\n",
    "    def __init__(self, \n",
    "                 traindata, trainlabels, \n",
    "                 testdata, testlabels, \n",
    "                 random_seed: int = 11,\n",
    "                 learning_rate: float = .1,\n",
    "                 ):\n",
    "        \n",
    "        self.traindata = traindata\n",
    "        self.trainlabels = trainlabels\n",
    "        self.testdata = testdata\n",
    "        self.testlabels = testlabels\n",
    "        self.learning_rate = learning_rate\n",
    "\n",
    "        self.trainmatrix = np.c_[np.ones((len(self.traindata), 1)), self.traindata]\n",
    "        self.testmatrix = np.c_[np.ones((len(self.testdata), 1)), self.testdata]\n",
    "\n",
    "        np.random.seed(random_seed)\n",
    "        self.weights = np.random.random(size=(257,10))\n",
    "\n",
    "    @property\n",
    "    def output(self) -> np.array:\n",
    "        return self.trainmatrix @ self.weights\n",
    "\n",
    "    @property\n",
    "    def guesses(self) -> np.array:\n",
    "        return np.argmax(self.output, axis=1)\n",
    "    \n",
    "    @property\n",
    "    def fraction_correct(self):\n",
    "        return np.sum(self.guesses == self.trainlabels)/len(self.trainlabels)\n",
    "    \n",
    "    @property\n",
    "    def test_score(self):\n",
    "        test_output = self.testmatrix @ self.weights\n",
    "        test_guesses = np.argmax(test_output, axis=1)\n",
    "        return np.sum(test_guesses == self.testlabels)/len(self.testlabels)\n",
    "\n",
    "    def update_weights(self):\n",
    "        \"\"\"Updates the weights once\"\"\"\n",
    "        if np.allclose(self.guesses, self.trainlabels):\n",
    "            return True\n",
    "\n",
    "        # pick a misclassified image\n",
    "        misclassified_image = np.argwhere(self.guesses != self.trainlabels)[0]\n",
    "        \n",
    "        # just a little bookkeeping for the next step\n",
    "        node_activations = self.output[misclassified_image][0]\n",
    "        correct_digit = self.trainlabels[misclassified_image]\n",
    "        c_i_activation = node_activations[correct_digit]\n",
    "\n",
    "        # select which direction to adjust the weights in for each node\n",
    "        ds = np.zeros((10))\n",
    "        too_high_nodes = node_activations > c_i_activation\n",
    "        ds[too_high_nodes] = -1\n",
    "        ds[correct_digit] = 1\n",
    "\n",
    "        # apply the weight adjustments\n",
    "        for digit, d in enumerate(ds):          \n",
    "            self.weights[:, digit] += d * self.learning_rate * self.trainmatrix[misclassified_image][0]\n",
    "\n",
    "    def train(self):\n",
    "        \"\"\"Repeatedly updates the weights until convergence on the training set.\"\"\"\n",
    "        epoch = 0\n",
    "        while not self.update_weights():\n",
    "            print(f\"epoch {epoch}: train accuracy {self.fraction_correct:.2%}\", end='\\r')\n",
    "            epoch += 1\n",
    "        print()\n",
    "\n",
    "        print(f\"Test set accuracy: {self.test_score:.2%}\")\n"
   ]
  },
  {
   "cell_type": "code",
   "execution_count": 131,
   "metadata": {},
   "outputs": [
    {
     "name": "stdout",
     "output_type": "stream",
     "text": [
      "epoch 2059: train accuracy 100.00%\n",
      "Test set accuracy: 87.80%\n",
      "epoch 2108: train accuracy 100.00%\n",
      "Test set accuracy: 87.90%\n",
      "epoch 2116: train accuracy 100.00%\n",
      "Test set accuracy: 88.20%\n"
     ]
    }
   ],
   "source": [
    "perceptron1 = DigitPerceptron(traindata = traindata, \n",
    "                        trainlabels = trainlabels,\n",
    "                        testdata = testdata,\n",
    "                        testlabels = testlabels, \n",
    "                        random_seed=1,\n",
    "                        )\n",
    "\n",
    "perceptron1.train()\n",
    "\n",
    "perceptron2 = DigitPerceptron(traindata = traindata, \n",
    "                        trainlabels = trainlabels,\n",
    "                        testdata = testdata,\n",
    "                        testlabels = testlabels, \n",
    "                        random_seed = 2,\n",
    "                        )\n",
    "\n",
    "perceptron2.train()\n",
    "\n",
    "perceptron3 = DigitPerceptron(traindata = traindata, \n",
    "                        trainlabels = trainlabels,\n",
    "                        testdata = testdata,\n",
    "                        testlabels = testlabels, \n",
    "                        random_seed=3,\n",
    "                        )\n",
    "\n",
    "perceptron3.train()"
   ]
  }
 ],
 "metadata": {
  "kernelspec": {
   "display_name": "deeplearning",
   "language": "python",
   "name": "python3"
  },
  "language_info": {
   "codemirror_mode": {
    "name": "ipython",
    "version": 3
   },
   "file_extension": ".py",
   "mimetype": "text/x-python",
   "name": "python",
   "nbconvert_exporter": "python",
   "pygments_lexer": "ipython3",
   "version": "3.10.12"
  },
  "orig_nbformat": 4
 },
 "nbformat": 4,
 "nbformat_minor": 2
}
